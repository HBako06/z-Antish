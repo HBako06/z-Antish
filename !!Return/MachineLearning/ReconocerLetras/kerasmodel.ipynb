{
 "cells": [
  {
   "cell_type": "code",
   "execution_count": 28,
   "metadata": {},
   "outputs": [],
   "source": [
    "import cv2\n",
    "import numpy as np\n",
    "import tensorflow as tf\n",
    "from keras.models import load_model\n",
    "import time\n",
    "\n",
    "# Cargar el modelo\n",
    "model = load_model(\"keras_Model.h5\", compile=False)\n",
    "\n",
    "# Cargar las clases desde labels.txt\n",
    "with open(\"labels.txt\", \"r\") as file:\n",
    "    class_names = [line.strip() for line in file.readlines()]\n",
    "\n",
    "# Definir la función de predicción\n",
    "@tf.function(input_signature=[tf.TensorSpec(shape=[None, 224, 224, 3], dtype=tf.float32)])\n",
    "def predict_image(image):\n",
    "    prediction = model(image)\n",
    "    return prediction"
   ]
  },
  {
   "cell_type": "code",
   "execution_count": 35,
   "metadata": {},
   "outputs": [
    {
     "name": "stdout",
     "output_type": "stream",
     "text": [
      "Para la imagen output/imageOut1.png:\n",
      "Clase predicha: 31 w\n",
      "Confianza: 99.55%\n",
      "--------------------\n",
      "Para la imagen output/imageOut2.png:\n",
      "Clase predicha: 27 s\n",
      "Confianza: 99.05%\n",
      "--------------------\n",
      "Para la imagen output/imageOut3.png:\n",
      "Clase predicha: 24 p\n",
      "Confianza: 99.67%\n",
      "--------------------\n",
      "Para la imagen output/imageOut4.png:\n",
      "Clase predicha: 24 p\n",
      "Confianza: 99.67%\n",
      "--------------------\n",
      "Para la imagen output/imageOut5.png:\n",
      "Clase predicha: 14 e\n",
      "Confianza: 99.09%\n",
      "--------------------\n",
      "Para la imagen output/imageOut6.png:\n",
      "Clase predicha: 17 h\n",
      "Confianza: 66.23%\n",
      "--------------------\n"
     ]
    }
   ],
   "source": [
    "# Realizar predicciones para las imágenes del 1 al 6\n",
    "for i in range(1, 7):\n",
    "    # Ruta de la imagen que deseas probar\n",
    "    ruta_imagen = f\"output/imageOut{i}.png\"\n",
    "\n",
    "    # Cargar la imagen\n",
    "    imagen = cv2.imread(ruta_imagen)\n",
    "    imagen = cv2.resize(imagen, (224, 224))\n",
    "    imagen = imagen / 255.0\n",
    "    imagen = np.expand_dims(imagen, axis=0)\n",
    "\n",
    "    # Medir el tiempo de ejecución\n",
    "    start_time = time.time()\n",
    "\n",
    "    # Realizar la predicción\n",
    "    prediccion = predict_image(imagen)\n",
    "\n",
    "    # Obtener la clase predicha y la confianza\n",
    "    clase_predicha = class_names[np.argmax(prediccion)]\n",
    "    confianza = np.max(prediccion)\n",
    "\n",
    "    # Calcular el tiempo transcurrido\n",
    "    elapsed_time = time.time() - start_time\n",
    "\n",
    "    # Mostrar los resultados y el tiempo de ejecución\n",
    "    print(f\"Para la imagen {ruta_imagen}:\")\n",
    "    print(\"Clase predicha:\", clase_predicha)\n",
    "    print(\"Confianza:\", str(np.round(confianza * 100, 2)) + \"%\")\n",
    "    #print(\"Tiempo de ejecución:\", elapsed_time, \"segundos\")\n",
    "    print(\"--------------------\")"
   ]
  }
 ],
 "metadata": {
  "kernelspec": {
   "display_name": "Python 3",
   "language": "python",
   "name": "python3"
  },
  "language_info": {
   "codemirror_mode": {
    "name": "ipython",
    "version": 3
   },
   "file_extension": ".py",
   "mimetype": "text/x-python",
   "name": "python",
   "nbconvert_exporter": "python",
   "pygments_lexer": "ipython3",
   "version": "3.10.0"
  }
 },
 "nbformat": 4,
 "nbformat_minor": 2
}
