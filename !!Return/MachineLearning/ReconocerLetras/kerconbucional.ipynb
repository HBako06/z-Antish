{
 "cells": [
  {
   "cell_type": "code",
   "execution_count": 1,
   "metadata": {},
   "outputs": [],
   "source": [
    "import cv2\n",
    "import numpy as np\n",
    "import tensorflow as tf\n",
    "import time"
   ]
  },
  {
   "cell_type": "code",
   "execution_count": 2,
   "metadata": {},
   "outputs": [],
   "source": [
    "# Cargar las clases desde labels.txt\n",
    "with open(\"labels.txt\", \"r\") as file:\n",
    "    class_names = [line.strip() for line in file.readlines()]\n",
    "\n",
    "# Función para construir el modelo personalizado\n",
    "def custom_model(input_shape, num_classes):\n",
    "    inputs = tf.keras.Input(shape=input_shape)\n",
    "    x = tf.keras.layers.Conv2D(32, (3, 3), activation='relu')(inputs)\n",
    "    x = tf.keras.layers.MaxPooling2D((2, 2))(x)\n",
    "    x = tf.keras.layers.Conv2D(64, (3, 3), activation='relu')(x)\n",
    "    x = tf.keras.layers.MaxPooling2D((2, 2))(x)\n",
    "    x = tf.keras.layers.Conv2D(128, (3, 3), activation='relu')(x)\n",
    "    x = tf.keras.layers.MaxPooling2D((2, 2))(x)\n",
    "    x = tf.keras.layers.Flatten()(x)\n",
    "    x = tf.keras.layers.Dense(128, activation='relu')(x)\n",
    "    outputs = tf.keras.layers.Dense(num_classes, activation='softmax')(x)\n",
    "    model = tf.keras.Model(inputs, outputs)\n",
    "    return model\n",
    "\n",
    "# Crear el modelo personalizado\n",
    "input_shape = (224, 224, 3)\n",
    "num_classes = len(class_names)\n",
    "model = custom_model(input_shape, num_classes)\n",
    "\n",
    "# Compilar el modelo\n",
    "model.compile(optimizer='adam', loss='sparse_categorical_crossentropy', metrics=['accuracy'])"
   ]
  },
  {
   "cell_type": "code",
   "execution_count": 3,
   "metadata": {},
   "outputs": [
    {
     "name": "stdout",
     "output_type": "stream",
     "text": [
      "1/1 [==============================] - 0s 96ms/step\n",
      "Para la imagen output/imageOut1.png:\n",
      "Clase predicha: 25 p\n",
      "Confianza: 3.53%\n",
      "Tiempo de ejecución: 0.13643550872802734 segundos\n",
      "--------------------\n",
      "1/1 [==============================] - 0s 25ms/step\n",
      "Para la imagen output/imageOut2.png:\n",
      "Clase predicha: 25 p\n",
      "Confianza: 3.49%\n",
      "Tiempo de ejecución: 0.05004596710205078 segundos\n",
      "--------------------\n",
      "1/1 [==============================] - 0s 23ms/step\n",
      "Para la imagen output/imageOut3.png:\n",
      "Clase predicha: 25 p\n",
      "Confianza: 3.49%\n",
      "Tiempo de ejecución: 0.048044443130493164 segundos\n",
      "--------------------\n",
      "1/1 [==============================] - 0s 22ms/step\n",
      "Para la imagen output/imageOut4.png:\n",
      "Clase predicha: 25 p\n",
      "Confianza: 3.57%\n",
      "Tiempo de ejecución: 0.04504084587097168 segundos\n",
      "--------------------\n",
      "1/1 [==============================] - 0s 23ms/step\n",
      "Para la imagen output/imageOut5.png:\n",
      "Clase predicha: 25 p\n",
      "Confianza: 3.53%\n",
      "Tiempo de ejecución: 0.045040130615234375 segundos\n",
      "--------------------\n",
      "1/1 [==============================] - 0s 22ms/step\n",
      "Para la imagen output/imageOut6.png:\n",
      "Clase predicha: 25 p\n",
      "Confianza: 3.54%\n",
      "Tiempo de ejecución: 0.04404020309448242 segundos\n",
      "--------------------\n"
     ]
    }
   ],
   "source": [
    "# Realizar predicciones para las imágenes del 1 al 6\n",
    "for i in range(1, 7):\n",
    "    # Ruta de la imagen que deseas probar\n",
    "    ruta_imagen = f\"output/imageOut{i}.png\"\n",
    "\n",
    "    # Cargar la imagen\n",
    "    imagen = cv2.imread(ruta_imagen)\n",
    "    imagen = cv2.resize(imagen, (224, 224))\n",
    "    imagen = imagen / 255.0\n",
    "    imagen = np.expand_dims(imagen, axis=0)\n",
    "\n",
    "    # Medir el tiempo de ejecución\n",
    "    start_time = time.time()\n",
    "\n",
    "    # Realizar la predicción\n",
    "    prediccion = model.predict(imagen)\n",
    "\n",
    "    # Obtener la clase predicha y la confianza\n",
    "    clase_predicha = class_names[np.argmax(prediccion)]\n",
    "    confianza = np.max(prediccion)\n",
    "\n",
    "    # Calcular el tiempo transcurrido\n",
    "    elapsed_time = time.time() - start_time\n",
    "\n",
    "    # Mostrar los resultados y el tiempo de ejecución\n",
    "    print(f\"Para la imagen {ruta_imagen}:\")\n",
    "    print(\"Clase predicha:\", clase_predicha)\n",
    "    print(\"Confianza:\", str(np.round(confianza * 100, 2)) + \"%\")\n",
    "    print(\"Tiempo de ejecución:\", elapsed_time, \"segundos\")\n",
    "    print(\"--------------------\")"
   ]
  }
 ],
 "metadata": {
  "kernelspec": {
   "display_name": "Python 3",
   "language": "python",
   "name": "python3"
  },
  "language_info": {
   "codemirror_mode": {
    "name": "ipython",
    "version": 3
   },
   "file_extension": ".py",
   "mimetype": "text/x-python",
   "name": "python",
   "nbconvert_exporter": "python",
   "pygments_lexer": "ipython3",
   "version": "3.10.0"
  }
 },
 "nbformat": 4,
 "nbformat_minor": 2
}
