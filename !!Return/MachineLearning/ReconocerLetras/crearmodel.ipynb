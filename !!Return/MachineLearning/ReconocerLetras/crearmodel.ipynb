{
 "cells": [
  {
   "cell_type": "code",
   "execution_count": 5,
   "metadata": {},
   "outputs": [
    {
     "name": "stdout",
     "output_type": "stream",
     "text": [
      "Proceso completado. La imagen ha sido mejorada y guardada como 'imagen_mejorada.png'\n"
     ]
    }
   ],
   "source": [
    "import os\n",
    "import cv2\n",
    "import numpy as np\n",
    "from tensorflow.keras.models import Sequential\n",
    "from tensorflow.keras.layers import Conv2D, MaxPooling2D, Flatten, Dense\n"
   ]
  },
  {
   "cell_type": "code",
   "execution_count": null,
   "metadata": {},
   "outputs": [],
   "source": [
    "\n",
    "sd\n",
    "\n"
   ]
  },
  {
   "cell_type": "markdown",
   "metadata": {},
   "source": [
    "Separar Imagenes Abajo"
   ]
  },
  {
   "cell_type": "code",
   "execution_count": 18,
   "metadata": {},
   "outputs": [
    {
     "name": "stdout",
     "output_type": "stream",
     "text": [
      "Imágenes procesadas guardadas en la carpeta 'output'\n"
     ]
    }
   ],
   "source": [
    "import cv2\n",
    "import os\n",
    "\n",
    "# Crea la carpeta de salida si no existe\n",
    "if not os.path.exists('output'):\n",
    "    os.makedirs('output')\n",
    "\n",
    "# Load image, grayscale\n",
    "image = cv2.imread('captcha.png')\n",
    "\n",
    "# Recortar una imagen\n",
    "imageOut1 = image[1:60, 5:34]\n",
    "imageOut2 = image[1:60, 34:63]\n",
    "imageOut3 = image[1:60, 62:88]\n",
    "imageOut4 = image[1:60, 87:112]\n",
    "imageOut5 = image[1:60, 111:137]\n",
    "imageOut6 = image[1:60, 137:160]\n",
    "\n",
    "# Guarda las imágenes en la carpeta de salida\n",
    "cv2.imwrite('output/imageOut1.png', imageOut1)\n",
    "cv2.imwrite('output/imageOut2.png', imageOut2)\n",
    "cv2.imwrite('output/imageOut3.png', imageOut3)\n",
    "cv2.imwrite('output/imageOut4.png', imageOut4)\n",
    "cv2.imwrite('output/imageOut5.png', imageOut5)\n",
    "cv2.imwrite('output/imageOut6.png', imageOut6)\n",
    "\n",
    "print(\"Imágenes procesadas guardadas en la carpeta 'output'\")\n"
   ]
  },
  {
   "cell_type": "code",
   "execution_count": 41,
   "metadata": {},
   "outputs": [
    {
     "name": "stdout",
     "output_type": "stream",
     "text": [
      "Imágenes procesadas y redimensionadas a 50x50 píxeles en blanco y negro guardadas en la carpeta 'output' con nombres de archivo únicos\n",
      "El archivo original 'captcha.png' ha sido eliminado.\n"
     ]
    }
   ],
   "source": [
    "import cv2\n",
    "import os\n",
    "import random\n",
    "import string\n",
    "from PIL import Image\n",
    "\n",
    "# Crea la carpeta de salida si no existe\n",
    "if not os.path.exists('output'):\n",
    "    os.makedirs('output')\n",
    "\n",
    "# Load image, grayscale\n",
    "image = cv2.imread('captcha.png')\n",
    "\n",
    "# Recortar una imagen\n",
    "imageOut1 = image[1:60, 5:34]\n",
    "imageOut2 = image[1:60, 34:63]\n",
    "imageOut3 = image[1:60, 62:88]\n",
    "imageOut4 = image[1:60, 87:112]\n",
    "imageOut5 = image[1:60, 111:137]\n",
    "imageOut6 = image[1:60, 137:160]\n",
    "\n",
    "# Redimensionar las imágenes a 50x50 píxeles sin estirar y guardar en blanco y negro\n",
    "def resize_and_save(image, output_folder, index):\n",
    "    # Convertir la imagen a escala de grises\n",
    "    image_gray = cv2.cvtColor(image, cv2.COLOR_BGR2GRAY)\n",
    "    # Crear una nueva imagen en blanco y negro de 50x50 píxeles\n",
    "    imagen_redimensionada = Image.new('L', (50, 50), 255)  # 'L' representa blanco y negro\n",
    "    # Pegar la imagen en escala de grises en el centro de la imagen en blanco y negro\n",
    "    width, height = image_gray.shape[::-1]\n",
    "    x = (50 - width) // 2\n",
    "    y = (50 - height) // 2\n",
    "    imagen_redimensionada.paste(Image.fromarray(image_gray), (x, y))\n",
    "    # Generar un nombre de archivo único (10 caracteres aleatorios)\n",
    "    random_string = ''.join(random.choices(string.ascii_letters + string.digits, k=10))\n",
    "    output_path = os.path.join(output_folder, f'imageOut_{index}_{random_string}.png')\n",
    "    # Guardar la imagen redimensionada en blanco y negro\n",
    "    imagen_redimensionada.save(output_path)\n",
    "\n",
    "# Llamar a la función para redimensionar y guardar cada imagen\n",
    "resize_and_save(imageOut1, 'output', 1)\n",
    "resize_and_save(imageOut2, 'output', 2)\n",
    "resize_and_save(imageOut3, 'output', 3)\n",
    "resize_and_save(imageOut4, 'output', 4)\n",
    "resize_and_save(imageOut5, 'output', 5)\n",
    "resize_and_save(imageOut6, 'output', 6)\n",
    "\n",
    "# Eliminar el archivo original captcha.png\n",
    "os.remove('captcha.png')\n",
    "\n",
    "print(\"Imágenes procesadas y redimensionadas a 50x50 píxeles en blanco y negro guardadas en la carpeta 'output' con nombres de archivo únicos\")\n",
    "print(\"El archivo original 'captcha.png' ha sido eliminado.\")\n"
   ]
  },
  {
   "cell_type": "code",
   "execution_count": 63,
   "metadata": {},
   "outputs": [
    {
     "name": "stdout",
     "output_type": "stream",
     "text": [
      "Imágenes procesadas y redimensionadas a 50x50 píxeles en escala de grises guardadas en la carpeta 'output'\n"
     ]
    }
   ],
   "source": [
    "import cv2\n",
    "import os\n",
    "from PIL import Image\n",
    "\n",
    "# Crea la carpeta de salida si no existe\n",
    "if not os.path.exists('output'):\n",
    "    os.makedirs('output')\n",
    "\n",
    "# Load image, grayscale\n",
    "image = cv2.imread('captcha.png')\n",
    "\n",
    "# Recortar una imagen\n",
    "imageOut1 = image[1:60, 5:34]\n",
    "imageOut2 = image[1:60, 34:63]\n",
    "imageOut3 = image[1:60, 62:88]\n",
    "imageOut4 = image[1:60, 87:112]\n",
    "imageOut5 = image[1:60, 111:137]\n",
    "imageOut6 = image[1:60, 137:160]\n",
    "\n",
    "# Redimensionar las imágenes a 50x50 píxeles sin estirar y guardar en blanco y negro\n",
    "def resize_and_save(image, output_path):\n",
    "    # Cambiar el espacio de color a escala de grises\n",
    "    image_gray = cv2.cvtColor(image, cv2.COLOR_BGR2GRAY)\n",
    "    # Crear una imagen de fondo blanco de 50x50 píxeles en escala de grises\n",
    "    imagen_redimensionada = Image.new('L', (50, 50), 'white')\n",
    "    # Pegar la imagen en escala de grises en el centro de la imagen redimensionada\n",
    "    width, height = image_gray.shape[::-1]  # Obtener dimensiones de la imagen en escala de grises\n",
    "    x = (50 - width) // 2\n",
    "    y = (50 - height) // 2\n",
    "    imagen_redimensionada.paste(Image.fromarray(image_gray), (x, y))\n",
    "    # Guardar la imagen redimensionada en escala de grises\n",
    "    imagen_redimensionada.save(output_path)\n",
    "\n",
    "# Llamar a la función para redimensionar y guardar cada imagen\n",
    "resize_and_save(imageOut1, 'output/imageOut1.png')\n",
    "resize_and_save(imageOut2, 'output/imageOut2.png')\n",
    "resize_and_save(imageOut3, 'output/imageOut3.png')\n",
    "resize_and_save(imageOut4, 'output/imageOut4.png')\n",
    "resize_and_save(imageOut5, 'output/imageOut5.png')\n",
    "resize_and_save(imageOut6, 'output/imageOut6.png')\n",
    "\n",
    "print(\"Imágenes procesadas y redimensionadas a 50x50 píxeles en escala de grises guardadas en la carpeta 'output'\")\n",
    "# Eliminar el archivo original captcha.png\n",
    "os.remove('captcha.png')\n"
   ]
  },
  {
   "cell_type": "code",
   "execution_count": 31,
   "metadata": {},
   "outputs": [],
   "source": [
    "from PIL import Image\n",
    "\n",
    "imagenruta= 'b/b7.png'\n",
    "\n",
    "# Abre la imagen existente\n",
    "imagen_original = Image.open(imagenruta)  # Reemplaza \"imagen_original.jpg\" con el nombre de tu archivo de imagen\n",
    "\n",
    "# Crea una nueva imagen de fondo blanco de 50x50 píxeles\n",
    "imagen_redimensionada = Image.new('RGB', (50, 50), 'white')\n",
    "\n",
    "# Pega la imagen original en el centro de la imagen redimensionada\n",
    "width, height = imagen_original.size\n",
    "x = (50 - width) // 2\n",
    "y = (50 - height) // 2\n",
    "imagen_redimensionada.paste(imagen_original, (x, y))\n",
    "\n",
    "# Guarda la imagen redimensionada\n",
    "imagen_redimensionada.save(imagenruta)  # Reemplaza \"imagen_redimensionada.jpg\" con el nombre que desees para la imagen redimensionada\n"
   ]
  }
 ],
 "metadata": {
  "kernelspec": {
   "display_name": "Python 3",
   "language": "python",
   "name": "python3"
  },
  "language_info": {
   "codemirror_mode": {
    "name": "ipython",
    "version": 3
   },
   "file_extension": ".py",
   "mimetype": "text/x-python",
   "name": "python",
   "nbconvert_exporter": "python",
   "pygments_lexer": "ipython3",
   "version": "3.10.0"
  }
 },
 "nbformat": 4,
 "nbformat_minor": 2
}
