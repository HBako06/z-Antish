{
    "metadata": {
        "kernelspec": {
            "name": "SQL",
            "display_name": "SQL",
            "language": "sql"
        },
        "language_info": {
            "name": "sql",
            "version": ""
        }
    },
    "nbformat_minor": 2,
    "nbformat": 4,
    "cells": [
        {
            "cell_type": "code",
            "source": [
                "select * from dbo.DataReC"
            ],
            "metadata": {
                "azdata_cell_guid": "7144f4f6-46ad-44e7-b61d-bef88c618d0c",
                "language": "sql"
            },
            "outputs": [
                {
                    "output_type": "display_data",
                    "data": {
                        "text/html": "(0 rows affected)"
                    },
                    "metadata": {}
                },
                {
                    "output_type": "display_data",
                    "data": {
                        "text/html": "Total execution time: 00:00:00.131"
                    },
                    "metadata": {}
                },
                {
                    "output_type": "execute_result",
                    "execution_count": 2,
                    "data": {
                        "application/vnd.dataresource+json": {
                            "schema": {
                                "fields": [
                                    {
                                        "name": "DNI"
                                    },
                                    {
                                        "name": "AP_PAT"
                                    },
                                    {
                                        "name": "AP_MAT"
                                    },
                                    {
                                        "name": "NOMBRES"
                                    },
                                    {
                                        "name": "FECHA_NAC"
                                    },
                                    {
                                        "name": "FCH_INSCRIPCION"
                                    },
                                    {
                                        "name": "FCH_EMISION"
                                    },
                                    {
                                        "name": "FCH_CADUCIDAD"
                                    },
                                    {
                                        "name": "UBIGEO_NAC"
                                    },
                                    {
                                        "name": "UBIGEO_DIR"
                                    },
                                    {
                                        "name": "DIRECCION"
                                    },
                                    {
                                        "name": "SEXO"
                                    },
                                    {
                                        "name": "EST_CIVIL"
                                    },
                                    {
                                        "name": "DIG_RUC"
                                    },
                                    {
                                        "name": "MADRE"
                                    },
                                    {
                                        "name": "PADRE"
                                    }
                                ]
                            },
                            "data": []
                        },
                        "text/html": "<table><tr><th>DNI</th><th>AP_PAT</th><th>AP_MAT</th><th>NOMBRES</th><th>FECHA_NAC</th><th>FCH_INSCRIPCION</th><th>FCH_EMISION</th><th>FCH_CADUCIDAD</th><th>UBIGEO_NAC</th><th>UBIGEO_DIR</th><th>DIRECCION</th><th>SEXO</th><th>EST_CIVIL</th><th>DIG_RUC</th><th>MADRE</th><th>PADRE</th></tr></table>"
                    },
                    "metadata": {}
                }
            ],
            "execution_count": 2
        },
        {
            "cell_type": "code",
            "source": [
                "' Todo Subido\n",
                "-- Que cargue del mismo store blob 38    subiendo \n",
                "BULK INSERT [dbo].[DataReC]\n",
                "FROM 'inputs/archivo_38.txt'  -- Ruta relativa dentro de tu contenedor de Blob Storage\n",
                "WITH (\n",
                "    DATA_SOURCE = 'BlobDataSource2',  -- Nombre del origen de datos externos\n",
                "    --FORMAT = 'CSV',                  -- Puedes ajustar el formato según tus datos\n",
                "    FIELDTERMINATOR = '|',           -- Delimitador de campos\n",
                "    ROWTERMINATOR = '0x0a',         -- Delimitador de filas (salto de línea)\n",
                "    --FIRSTROW = 2,                    -- Opcional: especifica la fila de inicio\n",
                "    MAXERRORS = 10                    -- Opcional: número máximo de errores permitidos\n",
                ");"
            ],
            "metadata": {
                "language": "sql",
                "azdata_cell_guid": "7c63ac98-a435-42c7-a405-c4d2fa69a282",
                "tags": []
            },
            "outputs": [
                {
                    "output_type": "display_data",
                    "data": {
                        "text/html": "(135428 rows affected)"
                    },
                    "metadata": {}
                },
                {
                    "output_type": "display_data",
                    "data": {
                        "text/html": "Total execution time: 00:01:30.826"
                    },
                    "metadata": {}
                }
            ],
            "execution_count": 13
        },
        {
            "cell_type": "code",
            "source": [
                "'SELECT COUNT(*) as TotalFilas\r\n",
                "FROM dbo.DataReC;'"
            ],
            "metadata": {
                "language": "sql",
                "azdata_cell_guid": "fa2ecc6b-7030-43e9-a195-5835538b99fd",
                "tags": []
            },
            "outputs": [
                {
                    "output_type": "display_data",
                    "data": {
                        "text/html": "(1 row affected)"
                    },
                    "metadata": {}
                },
                {
                    "output_type": "display_data",
                    "data": {
                        "text/html": "Total execution time: 00:15:32.578"
                    },
                    "metadata": {}
                },
                {
                    "output_type": "execute_result",
                    "execution_count": 3,
                    "data": {
                        "application/vnd.dataresource+json": {
                            "schema": {
                                "fields": [
                                    {
                                        "name": "TotalFilas"
                                    }
                                ]
                            },
                            "data": [
                                {
                                    "TotalFilas": "28999998"
                                }
                            ]
                        },
                        "text/html": "<table><tr><th>TotalFilas</th></tr><tr><td>28999998</td></tr></table>"
                    },
                    "metadata": {}
                }
            ],
            "execution_count": 3
        },
        {
            "cell_type": "code",
            "source": [
                "SELECT DNI,NOMBRES,AP_PAT,AP_MAT,FECHA_NAC\n",
                "FROM dbo.DataReC\n",
                "WHERE DNI = '41407929';"
            ],
            "metadata": {
                "language": "sql",
                "azdata_cell_guid": "31fb7f31-4706-40be-a9d8-e7cd51f81d30"
            },
            "outputs": [
                {
                    "output_type": "display_data",
                    "data": {
                        "text/html": "(1 row affected)"
                    },
                    "metadata": {}
                },
                {
                    "output_type": "display_data",
                    "data": {
                        "text/html": "Total execution time: 00:00:00.864"
                    },
                    "metadata": {}
                },
                {
                    "output_type": "execute_result",
                    "execution_count": 2,
                    "data": {
                        "application/vnd.dataresource+json": {
                            "schema": {
                                "fields": [
                                    {
                                        "name": "DNI"
                                    },
                                    {
                                        "name": "NOMBRES"
                                    },
                                    {
                                        "name": "AP_PAT"
                                    },
                                    {
                                        "name": "AP_MAT"
                                    },
                                    {
                                        "name": "FECHA_NAC"
                                    }
                                ]
                            },
                            "data": [
                                {
                                    "DNI": "41407929",
                                    "NOMBRES": "ALFREDO BESBETER",
                                    "AP_PAT": "NIETO",
                                    "AP_MAT": "DE LA CRUZ",
                                    "FECHA_NAC": "10/10/1979"
                                }
                            ]
                        },
                        "text/html": "<table><tr><th>DNI</th><th>NOMBRES</th><th>AP_PAT</th><th>AP_MAT</th><th>FECHA_NAC</th></tr><tr><td>41407929</td><td>ALFREDO BESBETER</td><td>NIETO</td><td>DE LA CRUZ</td><td>10/10/1979</td></tr></table>"
                    },
                    "metadata": {}
                }
            ],
            "execution_count": 2
        },
        {
            "cell_type": "code",
            "source": [
                "-- Crear el procedimiento almacenado\r\n",
                "CREATE PROCEDURE GetUserData\r\n",
                "    @DNI VARCHAR(20)\r\n",
                "AS\r\n",
                "BEGIN\r\n",
                "    SELECT DNI, NOMBRES, AP_PAT, AP_MAT, FECHA_NAC\r\n",
                "    FROM dbo.DataReC\r\n",
                "    WHERE DNI = @DNI;\r\n",
                "END;\r\n",
                ""
            ],
            "metadata": {
                "language": "sql",
                "azdata_cell_guid": "879219fc-bd1a-48f6-88e9-e46820568a92"
            },
            "outputs": [
                {
                    "output_type": "display_data",
                    "data": {
                        "text/html": "Commands completed successfully."
                    },
                    "metadata": {}
                },
                {
                    "output_type": "display_data",
                    "data": {
                        "text/html": "Total execution time: 00:00:00.318"
                    },
                    "metadata": {}
                }
            ],
            "execution_count": 17
        },
        {
            "cell_type": "code",
            "source": [
                "-- Ejemplo de ejecución de la función almacenada\r\n",
                "EXEC GetUserData @DNI = '07570887';"
            ],
            "metadata": {
                "language": "sql",
                "azdata_cell_guid": "b42cd2c6-0307-44ad-84a3-990655d68e78"
            },
            "outputs": [
                {
                    "output_type": "display_data",
                    "data": {
                        "text/html": "(1 row affected)"
                    },
                    "metadata": {}
                },
                {
                    "output_type": "display_data",
                    "data": {
                        "text/html": "Total execution time: 00:00:00.130"
                    },
                    "metadata": {}
                },
                {
                    "output_type": "execute_result",
                    "execution_count": 1,
                    "data": {
                        "application/vnd.dataresource+json": {
                            "schema": {
                                "fields": [
                                    {
                                        "name": "DNI"
                                    },
                                    {
                                        "name": "NOMBRES"
                                    },
                                    {
                                        "name": "AP_PAT"
                                    },
                                    {
                                        "name": "AP_MAT"
                                    },
                                    {
                                        "name": "FECHA_NAC"
                                    }
                                ]
                            },
                            "data": [
                                {
                                    "DNI": "07570887",
                                    "NOMBRES": "CARMEN ROSA",
                                    "AP_PAT": "IZAGUIRRE",
                                    "AP_MAT": "NULL",
                                    "FECHA_NAC": "25/02/1950"
                                }
                            ]
                        },
                        "text/html": "<table><tr><th>DNI</th><th>NOMBRES</th><th>AP_PAT</th><th>AP_MAT</th><th>FECHA_NAC</th></tr><tr><td>07570887</td><td>CARMEN ROSA</td><td>IZAGUIRRE</td><td>NULL</td><td>25/02/1950</td></tr></table>"
                    },
                    "metadata": {}
                }
            ],
            "execution_count": 1
        }
    ]
}