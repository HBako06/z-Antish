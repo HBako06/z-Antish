{
    "metadata": {
        "kernelspec": {
            "name": "SQL",
            "display_name": "SQL",
            "language": "sql"
        },
        "language_info": {
            "name": "sql",
            "version": ""
        }
    },
    "nbformat_minor": 2,
    "nbformat": 4,
    "cells": [
        {
            "cell_type": "code",
            "source": [
                "select * from JK_EstadoProcesado"
            ],
            "metadata": {
                "language": "sql",
                "azdata_cell_guid": "999e987d-6fbf-423d-a77a-2991b2668673"
            },
            "outputs": [],
            "execution_count": null
        },
        {
            "cell_type": "code",
            "source": [
                "EXEC spGetEstadoProcesadoCount"
            ],
            "metadata": {
                "language": "sql",
                "azdata_cell_guid": "ce032624-890e-49e2-860f-c68aa8d389cb"
            },
            "outputs": [
                {
                    "output_type": "display_data",
                    "data": {
                        "text/html": "(27 rows affected)"
                    },
                    "metadata": {}
                },
                {
                    "output_type": "display_data",
                    "data": {
                        "text/html": "Total execution time: 00:00:07.148"
                    },
                    "metadata": {}
                },
                {
                    "output_type": "execute_result",
                    "execution_count": 4,
                    "data": {
                        "application/vnd.dataresource+json": {
                            "schema": {
                                "fields": [
                                    {
                                        "name": "Valor"
                                    },
                                    {
                                        "name": "Descripcion"
                                    },
                                    {
                                        "name": "TotalFilas"
                                    }
                                ]
                            },
                            "data": [
                                {
                                    "Valor": "0",
                                    "Descripcion": "chambear",
                                    "TotalFilas": "52992"
                                },
                                {
                                    "Valor": "1",
                                    "Descripcion": "Trabajado",
                                    "TotalFilas": "939690"
                                },
                                {
                                    "Valor": "2",
                                    "Descripcion": "live chambear",
                                    "TotalFilas": "598"
                                },
                                {
                                    "Valor": "3",
                                    "Descripcion": "trabajadosPOSITIVO",
                                    "TotalFilas": "3437"
                                },
                                {
                                    "Valor": "4",
                                    "Descripcion": "lives 2",
                                    "TotalFilas": "311"
                                },
                                {
                                    "Valor": "10",
                                    "Descripcion": "live chambear",
                                    "TotalFilas": "12297"
                                },
                                {
                                    "Valor": "11",
                                    "Descripcion": "chamakario",
                                    "TotalFilas": "19591"
                                },
                                {
                                    "Valor": "12",
                                    "Descripcion": "Ausente",
                                    "TotalFilas": "0"
                                },
                                {
                                    "Valor": "13",
                                    "Descripcion": "Chulls",
                                    "TotalFilas": "657"
                                },
                                {
                                    "Valor": "14",
                                    "Descripcion": "Cɾαƈӄɱσvι VLA🔥",
                                    "TotalFilas": "15621"
                                },
                                {
                                    "Valor": "15",
                                    "Descripcion": "Chamacario",
                                    "TotalFilas": "19323"
                                },
                                {
                                    "Valor": "16",
                                    "Descripcion": "Chamacario",
                                    "TotalFilas": "1890"
                                },
                                {
                                    "Valor": "17",
                                    "Descripcion": "Cɾαƈӄɱσvι🔥",
                                    "TotalFilas": "16757"
                                },
                                {
                                    "Valor": "18",
                                    "Descripcion": "Vladi Bolivia",
                                    "TotalFilas": "0"
                                },
                                {
                                    "Valor": "19",
                                    "Descripcion": "Cɾαƈӄɱσvι VLA🔥",
                                    "TotalFilas": "24678"
                                },
                                {
                                    "Valor": "20",
                                    "Descripcion": "Ausente",
                                    "TotalFilas": "29975"
                                },
                                {
                                    "Valor": "21",
                                    "Descripcion": "Mobidick",
                                    "TotalFilas": "20199"
                                },
                                {
                                    "Valor": "22",
                                    "Descripcion": "ausente",
                                    "TotalFilas": "0"
                                },
                                {
                                    "Valor": "23",
                                    "Descripcion": "Cɾαƈӄɱσvι VLA🔥",
                                    "TotalFilas": "27341"
                                },
                                {
                                    "Valor": "24",
                                    "Descripcion": "ausente",
                                    "TotalFilas": "0"
                                },
                                {
                                    "Valor": "25",
                                    "Descripcion": "Jhonatan",
                                    "TotalFilas": "11688"
                                },
                                {
                                    "Valor": "26",
                                    "Descripcion": "sd",
                                    "TotalFilas": "10009"
                                },
                                {
                                    "Valor": "27",
                                    "Descripcion": "boli",
                                    "TotalFilas": "15315"
                                },
                                {
                                    "Valor": "28",
                                    "Descripcion": "a",
                                    "TotalFilas": "3501"
                                },
                                {
                                    "Valor": "99",
                                    "Descripcion": "test",
                                    "TotalFilas": "5"
                                },
                                {
                                    "Valor": "100",
                                    "Descripcion": "nuevo",
                                    "TotalFilas": "0"
                                },
                                {
                                    "Valor": "101",
                                    "Descripcion": "data history escolta",
                                    "TotalFilas": "198074"
                                }
                            ]
                        },
                        "text/html": "<table><tr><th>Valor</th><th>Descripcion</th><th>TotalFilas</th></tr><tr><td>0</td><td>chambear</td><td>52992</td></tr><tr><td>1</td><td>Trabajado</td><td>939690</td></tr><tr><td>2</td><td>live chambear</td><td>598</td></tr><tr><td>3</td><td>trabajadosPOSITIVO</td><td>3437</td></tr><tr><td>4</td><td>lives 2</td><td>311</td></tr><tr><td>10</td><td>live chambear</td><td>12297</td></tr><tr><td>11</td><td>chamakario</td><td>19591</td></tr><tr><td>12</td><td>Ausente</td><td>0</td></tr><tr><td>13</td><td>Chulls</td><td>657</td></tr><tr><td>14</td><td>Cɾαƈӄɱσvι VLA🔥</td><td>15621</td></tr><tr><td>15</td><td>Chamacario</td><td>19323</td></tr><tr><td>16</td><td>Chamacario</td><td>1890</td></tr><tr><td>17</td><td>Cɾαƈӄɱσvι🔥</td><td>16757</td></tr><tr><td>18</td><td>Vladi Bolivia</td><td>0</td></tr><tr><td>19</td><td>Cɾαƈӄɱσvι VLA🔥</td><td>24678</td></tr><tr><td>20</td><td>Ausente</td><td>29975</td></tr><tr><td>21</td><td>Mobidick</td><td>20199</td></tr><tr><td>22</td><td>ausente</td><td>0</td></tr><tr><td>23</td><td>Cɾαƈӄɱσvι VLA🔥</td><td>27341</td></tr><tr><td>24</td><td>ausente</td><td>0</td></tr><tr><td>25</td><td>Jhonatan</td><td>11688</td></tr><tr><td>26</td><td>sd</td><td>10009</td></tr><tr><td>27</td><td>boli</td><td>15315</td></tr><tr><td>28</td><td>a</td><td>3501</td></tr><tr><td>99</td><td>test</td><td>5</td></tr><tr><td>100</td><td>nuevo</td><td>0</td></tr><tr><td>101</td><td>data history escolta</td><td>198074</td></tr></table>"
                    },
                    "metadata": {}
                }
            ],
            "execution_count": 4
        },
        {
            "cell_type": "markdown",
            "source": [
                "# Actualizar el parametro Procesado"
            ],
            "metadata": {
                "azdata_cell_guid": "80f20a93-fc0e-40bd-a174-2f0ddff0a3d8"
            },
            "attachments": {}
        },
        {
            "cell_type": "code",
            "source": [
                "-- AGREGAR DATA A LOS TRABAJADORES\r\n",
                "UPDATE JK_workersColab\r\n",
                "SET Procesado = 3\r\n",
                "WHERE DNI IN (\r\n",
                "    SELECT TOP 20000 DNI\r\n",
                "    FROM JK_workersColab\r\n",
                "    WHERE Procesado = \r\n",
                ");"
            ],
            "metadata": {
                "azdata_cell_guid": "60820dc8-a542-48da-a592-731c6df7b941",
                "language": "sql"
            },
            "outputs": [
                {
                    "output_type": "display_data",
                    "data": {
                        "text/html": "(20000 rows affected)"
                    },
                    "metadata": {}
                },
                {
                    "output_type": "display_data",
                    "data": {
                        "text/html": "Total execution time: 00:00:02.796"
                    },
                    "metadata": {}
                }
            ],
            "execution_count": 2
        },
        {
            "cell_type": "code",
            "source": [
                "-- mover las lives al estado 3\r\n",
                "UPDATE JK_workersColab\r\n",
                "SET Procesado = 3\r\n",
                "WHERE Status LIKE '%LIVE%' AND Procesado = 1;"
            ],
            "metadata": {
                "language": "sql",
                "azdata_cell_guid": "1f219403-63c2-4534-b49b-6d7cab237f65"
            },
            "outputs": [
                {
                    "output_type": "display_data",
                    "data": {
                        "text/html": "(465 rows affected)"
                    },
                    "metadata": {}
                },
                {
                    "output_type": "display_data",
                    "data": {
                        "text/html": "Total execution time: 00:00:10.692"
                    },
                    "metadata": {}
                }
            ],
            "execution_count": 1
        },
        {
            "cell_type": "code",
            "source": [],
            "metadata": {
                "language": "sql",
                "azdata_cell_guid": "86f02508-569b-4322-96af-0806d8d8968a"
            },
            "outputs": [
                {
                    "output_type": "display_data",
                    "data": {
                        "text/html": "(20 rows affected)"
                    },
                    "metadata": {}
                },
                {
                    "output_type": "display_data",
                    "data": {
                        "text/html": "Total execution time: 00:00:00.138"
                    },
                    "metadata": {}
                },
                {
                    "output_type": "execute_result",
                    "execution_count": 3,
                    "data": {
                        "application/vnd.dataresource+json": {
                            "schema": {
                                "fields": [
                                    {
                                        "name": "DNI"
                                    }
                                ]
                            },
                            "data": [
                                {
                                    "DNI": "07594509"
                                },
                                {
                                    "DNI": "07594510"
                                },
                                {
                                    "DNI": "07594511"
                                },
                                {
                                    "DNI": "07594512"
                                },
                                {
                                    "DNI": "07594513"
                                },
                                {
                                    "DNI": "07594514"
                                },
                                {
                                    "DNI": "07594515"
                                },
                                {
                                    "DNI": "07594516"
                                },
                                {
                                    "DNI": "07594517"
                                },
                                {
                                    "DNI": "07594518"
                                },
                                {
                                    "DNI": "07594519"
                                },
                                {
                                    "DNI": "07594520"
                                },
                                {
                                    "DNI": "07594521"
                                },
                                {
                                    "DNI": "07594522"
                                },
                                {
                                    "DNI": "07594523"
                                },
                                {
                                    "DNI": "07594524"
                                },
                                {
                                    "DNI": "07594525"
                                },
                                {
                                    "DNI": "07594526"
                                },
                                {
                                    "DNI": "07594527"
                                },
                                {
                                    "DNI": "07594528"
                                }
                            ]
                        },
                        "text/html": "<table><tr><th>DNI</th></tr><tr><td>07594509</td></tr><tr><td>07594510</td></tr><tr><td>07594511</td></tr><tr><td>07594512</td></tr><tr><td>07594513</td></tr><tr><td>07594514</td></tr><tr><td>07594515</td></tr><tr><td>07594516</td></tr><tr><td>07594517</td></tr><tr><td>07594518</td></tr><tr><td>07594519</td></tr><tr><td>07594520</td></tr><tr><td>07594521</td></tr><tr><td>07594522</td></tr><tr><td>07594523</td></tr><tr><td>07594524</td></tr><tr><td>07594525</td></tr><tr><td>07594526</td></tr><tr><td>07594527</td></tr><tr><td>07594528</td></tr></table>"
                    },
                    "metadata": {}
                }
            ],
            "execution_count": 3
        },
        {
            "cell_type": "code",
            "source": [
                "SELECT TOP 1 DNI\r\n",
                "FROM JK_workersColab\r\n",
                "WHERE Procesado = 10;"
            ],
            "metadata": {
                "language": "sql",
                "azdata_cell_guid": "411ad4d0-6bc6-45e4-8435-c20dce5bd6bd"
            },
            "outputs": [
                {
                    "output_type": "display_data",
                    "data": {
                        "text/html": "(1 row affected)"
                    },
                    "metadata": {}
                },
                {
                    "output_type": "display_data",
                    "data": {
                        "text/html": "Total execution time: 00:00:00.140"
                    },
                    "metadata": {}
                },
                {
                    "output_type": "execute_result",
                    "execution_count": 4,
                    "data": {
                        "application/vnd.dataresource+json": {
                            "schema": {
                                "fields": [
                                    {
                                        "name": "DNI"
                                    }
                                ]
                            },
                            "data": [
                                {
                                    "DNI": "07594499"
                                }
                            ]
                        },
                        "text/html": "<table><tr><th>DNI</th></tr><tr><td>07594499</td></tr></table>"
                    },
                    "metadata": {}
                }
            ],
            "execution_count": 4
        },
        {
            "cell_type": "code",
            "source": [
                "EXECUTE ObtenerDNIPorProcesado 10;"
            ],
            "metadata": {
                "language": "sql",
                "azdata_cell_guid": "a732691c-d24a-4ce5-a76a-bb427e60cdf0"
            },
            "outputs": [
                {
                    "output_type": "display_data",
                    "data": {
                        "text/html": "(1 row affected)"
                    },
                    "metadata": {}
                },
                {
                    "output_type": "display_data",
                    "data": {
                        "text/html": "Total execution time: 00:00:00.165"
                    },
                    "metadata": {}
                },
                {
                    "output_type": "execute_result",
                    "execution_count": 1,
                    "data": {
                        "application/vnd.dataresource+json": {
                            "schema": {
                                "fields": [
                                    {
                                        "name": "DNI"
                                    }
                                ]
                            },
                            "data": [
                                {
                                    "DNI": "07594499"
                                }
                            ]
                        },
                        "text/html": "<table><tr><th>DNI</th></tr><tr><td>07594499</td></tr></table>"
                    },
                    "metadata": {}
                }
            ],
            "execution_count": 1
        },
        {
            "cell_type": "code",
            "source": [
                "CREATE PROCEDURE ObtenerDNIPorProcesado\r\n",
                "    @Procesado INT\r\n",
                "AS\r\n",
                "BEGIN\r\n",
                "    SELECT TOP 1 DNI\r\n",
                "    FROM JK_workersColab\r\n",
                "    WHERE Procesado = @Procesado;\r\n",
                "END;\r\n",
                ""
            ],
            "metadata": {
                "language": "sql",
                "azdata_cell_guid": "0bca67fd-2bce-42a7-841b-91f973584991"
            },
            "outputs": [
                {
                    "output_type": "display_data",
                    "data": {
                        "text/html": "Commands completed successfully."
                    },
                    "metadata": {}
                },
                {
                    "output_type": "display_data",
                    "data": {
                        "text/html": "Total execution time: 00:00:00.162"
                    },
                    "metadata": {}
                }
            ],
            "execution_count": 5
        },
        {
            "cell_type": "code",
            "source": [
                "CREATE PROCEDURE ObtenerTotalFilasPorProcesado\r\n",
                "    @Procesado INT\r\n",
                "AS\r\n",
                "BEGIN\r\n",
                "    SET NOCOUNT ON;\r\n",
                "\r\n",
                "    SELECT COUNT(*) as TotalFilas\r\n",
                "    FROM dbo.JK_workersColab\r\n",
                "    WHERE Procesado = @Procesado;\r\n",
                "END;"
            ],
            "metadata": {
                "language": "sql",
                "azdata_cell_guid": "2ea7e796-4c83-4040-bf22-82c74be67dad"
            },
            "outputs": [
                {
                    "output_type": "display_data",
                    "data": {
                        "text/html": "Commands completed successfully."
                    },
                    "metadata": {}
                },
                {
                    "output_type": "display_data",
                    "data": {
                        "text/html": "Total execution time: 00:00:00.150"
                    },
                    "metadata": {}
                }
            ],
            "execution_count": 1
        },
        {
            "cell_type": "code",
            "source": [
                "EXECUTE ObtenerTotalFilasPorProcesado 10;"
            ],
            "metadata": {
                "language": "sql",
                "azdata_cell_guid": "f0d7517f-0f68-41a0-a6de-0b82b8e7914a"
            },
            "outputs": [
                {
                    "output_type": "display_data",
                    "data": {
                        "text/html": "Commands completed successfully."
                    },
                    "metadata": {}
                },
                {
                    "output_type": "display_data",
                    "data": {
                        "text/html": "Total execution time: 00:00:00.201"
                    },
                    "metadata": {}
                },
                {
                    "output_type": "execute_result",
                    "execution_count": 2,
                    "data": {
                        "application/vnd.dataresource+json": {
                            "schema": {
                                "fields": [
                                    {
                                        "name": "TotalFilas"
                                    }
                                ]
                            },
                            "data": [
                                {
                                    "TotalFilas": "6009"
                                }
                            ]
                        },
                        "text/html": "<table><tr><th>TotalFilas</th></tr><tr><td>6009</td></tr></table>"
                    },
                    "metadata": {}
                }
            ],
            "execution_count": 2
        }
    ]
}