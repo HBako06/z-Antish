{
    "metadata": {
        "kernelspec": {
            "name": "SQL",
            "display_name": "SQL",
            "language": "sql"
        },
        "language_info": {
            "name": "sql",
            "version": ""
        }
    },
    "nbformat_minor": 2,
    "nbformat": 4,
    "cells": [
        {
            "cell_type": "code",
            "source": [
                "select * from JK_EstadoProcesado"
            ],
            "metadata": {
                "language": "sql",
                "azdata_cell_guid": "999e987d-6fbf-423d-a77a-2991b2668673"
            },
            "outputs": [],
            "execution_count": null
        },
        {
            "cell_type": "code",
            "source": [
                "-- ver cuanto queda\r\n",
                "SELECT Procesado, COUNT(*) as TotalFilas\r\n",
                "FROM dbo.JK_workersColab\r\n",
                "WHERE Procesado BETWEEN 0 AND 24\r\n",
                "GROUP BY Procesado\r\n",
                "ORDER BY Procesado;\r\n",
                ""
            ],
            "metadata": {
                "language": "sql",
                "azdata_cell_guid": "ce032624-890e-49e2-860f-c68aa8d389cb"
            },
            "outputs": [
                {
                    "output_type": "display_data",
                    "data": {
                        "text/html": "(14 rows affected)"
                    },
                    "metadata": {}
                },
                {
                    "output_type": "display_data",
                    "data": {
                        "text/html": "Total execution time: 00:00:01.354"
                    },
                    "metadata": {}
                },
                {
                    "output_type": "execute_result",
                    "execution_count": 1,
                    "data": {
                        "application/vnd.dataresource+json": {
                            "schema": {
                                "fields": [
                                    {
                                        "name": "Procesado"
                                    },
                                    {
                                        "name": "TotalFilas"
                                    }
                                ]
                            },
                            "data": [
                                {
                                    "Procesado": "0",
                                    "TotalFilas": "3225"
                                },
                                {
                                    "Procesado": "1",
                                    "TotalFilas": "316872"
                                },
                                {
                                    "Procesado": "2",
                                    "TotalFilas": "241"
                                },
                                {
                                    "Procesado": "3",
                                    "TotalFilas": "863"
                                },
                                {
                                    "Procesado": "10",
                                    "TotalFilas": "28598"
                                },
                                {
                                    "Procesado": "11",
                                    "TotalFilas": "2137"
                                },
                                {
                                    "Procesado": "12",
                                    "TotalFilas": "20748"
                                },
                                {
                                    "Procesado": "13",
                                    "TotalFilas": "15104"
                                },
                                {
                                    "Procesado": "15",
                                    "TotalFilas": "4066"
                                },
                                {
                                    "Procesado": "17",
                                    "TotalFilas": "6943"
                                },
                                {
                                    "Procesado": "18",
                                    "TotalFilas": "8393"
                                },
                                {
                                    "Procesado": "20",
                                    "TotalFilas": "5162"
                                },
                                {
                                    "Procesado": "21",
                                    "TotalFilas": "15847"
                                },
                                {
                                    "Procesado": "22",
                                    "TotalFilas": "19696"
                                }
                            ]
                        },
                        "text/html": "<table><tr><th>Procesado</th><th>TotalFilas</th></tr><tr><td>0</td><td>3225</td></tr><tr><td>1</td><td>316872</td></tr><tr><td>2</td><td>241</td></tr><tr><td>3</td><td>863</td></tr><tr><td>10</td><td>28598</td></tr><tr><td>11</td><td>2137</td></tr><tr><td>12</td><td>20748</td></tr><tr><td>13</td><td>15104</td></tr><tr><td>15</td><td>4066</td></tr><tr><td>17</td><td>6943</td></tr><tr><td>18</td><td>8393</td></tr><tr><td>20</td><td>5162</td></tr><tr><td>21</td><td>15847</td></tr><tr><td>22</td><td>19696</td></tr></table>"
                    },
                    "metadata": {}
                }
            ],
            "execution_count": 1
        },
        {
            "cell_type": "markdown",
            "source": [
                "# Actualizar el parametro Procesado"
            ],
            "metadata": {
                "azdata_cell_guid": "80f20a93-fc0e-40bd-a174-2f0ddff0a3d8"
            },
            "attachments": {}
        },
        {
            "cell_type": "code",
            "source": [
                "-- AGREGAR DATA A LOS TRABAJADORES\r\n",
                "UPDATE JK_workersColab\r\n",
                "SET Procesado = 15\r\n",
                "WHERE DNI IN (\r\n",
                "    SELECT TOP 10000 DNI\r\n",
                "    FROM JK_workersColab\r\n",
                "    WHERE Procesado = 0\r\n",
                ");"
            ],
            "metadata": {
                "azdata_cell_guid": "60820dc8-a542-48da-a592-731c6df7b941",
                "language": "sql"
            },
            "outputs": [
                {
                    "output_type": "display_data",
                    "data": {
                        "text/html": "(5438 rows affected)"
                    },
                    "metadata": {}
                },
                {
                    "output_type": "display_data",
                    "data": {
                        "text/html": "Total execution time: 00:00:01.701"
                    },
                    "metadata": {}
                }
            ],
            "execution_count": 1
        },
        {
            "cell_type": "code",
            "source": [
                "-- Buscar el la lista de 0\r\n",
                "SELECT TOP 20 DNI\r\n",
                "FROM JK_workersColab\r\n",
                "WHERE Procesado = 0;"
            ],
            "metadata": {
                "language": "sql",
                "azdata_cell_guid": "86f02508-569b-4322-96af-0806d8d8968a"
            },
            "outputs": [
                {
                    "output_type": "display_data",
                    "data": {
                        "text/html": "(20 rows affected)"
                    },
                    "metadata": {}
                },
                {
                    "output_type": "display_data",
                    "data": {
                        "text/html": "Total execution time: 00:00:00.138"
                    },
                    "metadata": {}
                },
                {
                    "output_type": "execute_result",
                    "execution_count": 3,
                    "data": {
                        "application/vnd.dataresource+json": {
                            "schema": {
                                "fields": [
                                    {
                                        "name": "DNI"
                                    }
                                ]
                            },
                            "data": [
                                {
                                    "DNI": "07594509"
                                },
                                {
                                    "DNI": "07594510"
                                },
                                {
                                    "DNI": "07594511"
                                },
                                {
                                    "DNI": "07594512"
                                },
                                {
                                    "DNI": "07594513"
                                },
                                {
                                    "DNI": "07594514"
                                },
                                {
                                    "DNI": "07594515"
                                },
                                {
                                    "DNI": "07594516"
                                },
                                {
                                    "DNI": "07594517"
                                },
                                {
                                    "DNI": "07594518"
                                },
                                {
                                    "DNI": "07594519"
                                },
                                {
                                    "DNI": "07594520"
                                },
                                {
                                    "DNI": "07594521"
                                },
                                {
                                    "DNI": "07594522"
                                },
                                {
                                    "DNI": "07594523"
                                },
                                {
                                    "DNI": "07594524"
                                },
                                {
                                    "DNI": "07594525"
                                },
                                {
                                    "DNI": "07594526"
                                },
                                {
                                    "DNI": "07594527"
                                },
                                {
                                    "DNI": "07594528"
                                }
                            ]
                        },
                        "text/html": "<table><tr><th>DNI</th></tr><tr><td>07594509</td></tr><tr><td>07594510</td></tr><tr><td>07594511</td></tr><tr><td>07594512</td></tr><tr><td>07594513</td></tr><tr><td>07594514</td></tr><tr><td>07594515</td></tr><tr><td>07594516</td></tr><tr><td>07594517</td></tr><tr><td>07594518</td></tr><tr><td>07594519</td></tr><tr><td>07594520</td></tr><tr><td>07594521</td></tr><tr><td>07594522</td></tr><tr><td>07594523</td></tr><tr><td>07594524</td></tr><tr><td>07594525</td></tr><tr><td>07594526</td></tr><tr><td>07594527</td></tr><tr><td>07594528</td></tr></table>"
                    },
                    "metadata": {}
                }
            ],
            "execution_count": 3
        },
        {
            "cell_type": "code",
            "source": [
                "SELECT TOP 1 DNI\r\n",
                "FROM JK_workersColab\r\n",
                "WHERE Procesado = 10;"
            ],
            "metadata": {
                "language": "sql",
                "azdata_cell_guid": "411ad4d0-6bc6-45e4-8435-c20dce5bd6bd"
            },
            "outputs": [
                {
                    "output_type": "display_data",
                    "data": {
                        "text/html": "(1 row affected)"
                    },
                    "metadata": {}
                },
                {
                    "output_type": "display_data",
                    "data": {
                        "text/html": "Total execution time: 00:00:00.140"
                    },
                    "metadata": {}
                },
                {
                    "output_type": "execute_result",
                    "execution_count": 4,
                    "data": {
                        "application/vnd.dataresource+json": {
                            "schema": {
                                "fields": [
                                    {
                                        "name": "DNI"
                                    }
                                ]
                            },
                            "data": [
                                {
                                    "DNI": "07594499"
                                }
                            ]
                        },
                        "text/html": "<table><tr><th>DNI</th></tr><tr><td>07594499</td></tr></table>"
                    },
                    "metadata": {}
                }
            ],
            "execution_count": 4
        },
        {
            "cell_type": "code",
            "source": [
                "EXECUTE ObtenerDNIPorProcesado 10;"
            ],
            "metadata": {
                "language": "sql",
                "azdata_cell_guid": "a732691c-d24a-4ce5-a76a-bb427e60cdf0"
            },
            "outputs": [
                {
                    "output_type": "display_data",
                    "data": {
                        "text/html": "(1 row affected)"
                    },
                    "metadata": {}
                },
                {
                    "output_type": "display_data",
                    "data": {
                        "text/html": "Total execution time: 00:00:00.165"
                    },
                    "metadata": {}
                },
                {
                    "output_type": "execute_result",
                    "execution_count": 1,
                    "data": {
                        "application/vnd.dataresource+json": {
                            "schema": {
                                "fields": [
                                    {
                                        "name": "DNI"
                                    }
                                ]
                            },
                            "data": [
                                {
                                    "DNI": "07594499"
                                }
                            ]
                        },
                        "text/html": "<table><tr><th>DNI</th></tr><tr><td>07594499</td></tr></table>"
                    },
                    "metadata": {}
                }
            ],
            "execution_count": 1
        },
        {
            "cell_type": "code",
            "source": [
                "CREATE PROCEDURE ObtenerDNIPorProcesado\r\n",
                "    @Procesado INT\r\n",
                "AS\r\n",
                "BEGIN\r\n",
                "    SELECT TOP 1 DNI\r\n",
                "    FROM JK_workersColab\r\n",
                "    WHERE Procesado = @Procesado;\r\n",
                "END;\r\n",
                ""
            ],
            "metadata": {
                "language": "sql",
                "azdata_cell_guid": "0bca67fd-2bce-42a7-841b-91f973584991"
            },
            "outputs": [
                {
                    "output_type": "display_data",
                    "data": {
                        "text/html": "Commands completed successfully."
                    },
                    "metadata": {}
                },
                {
                    "output_type": "display_data",
                    "data": {
                        "text/html": "Total execution time: 00:00:00.162"
                    },
                    "metadata": {}
                }
            ],
            "execution_count": 5
        },
        {
            "cell_type": "code",
            "source": [
                "CREATE PROCEDURE ObtenerTotalFilasPorProcesado\r\n",
                "    @Procesado INT\r\n",
                "AS\r\n",
                "BEGIN\r\n",
                "    SET NOCOUNT ON;\r\n",
                "\r\n",
                "    SELECT COUNT(*) as TotalFilas\r\n",
                "    FROM dbo.JK_workersColab\r\n",
                "    WHERE Procesado = @Procesado;\r\n",
                "END;"
            ],
            "metadata": {
                "language": "sql",
                "azdata_cell_guid": "2ea7e796-4c83-4040-bf22-82c74be67dad"
            },
            "outputs": [
                {
                    "output_type": "display_data",
                    "data": {
                        "text/html": "Commands completed successfully."
                    },
                    "metadata": {}
                },
                {
                    "output_type": "display_data",
                    "data": {
                        "text/html": "Total execution time: 00:00:00.150"
                    },
                    "metadata": {}
                }
            ],
            "execution_count": 1
        },
        {
            "cell_type": "code",
            "source": [
                "EXECUTE ObtenerTotalFilasPorProcesado 10;"
            ],
            "metadata": {
                "language": "sql",
                "azdata_cell_guid": "f0d7517f-0f68-41a0-a6de-0b82b8e7914a"
            },
            "outputs": [
                {
                    "output_type": "display_data",
                    "data": {
                        "text/html": "Commands completed successfully."
                    },
                    "metadata": {}
                },
                {
                    "output_type": "display_data",
                    "data": {
                        "text/html": "Total execution time: 00:00:00.201"
                    },
                    "metadata": {}
                },
                {
                    "output_type": "execute_result",
                    "execution_count": 2,
                    "data": {
                        "application/vnd.dataresource+json": {
                            "schema": {
                                "fields": [
                                    {
                                        "name": "TotalFilas"
                                    }
                                ]
                            },
                            "data": [
                                {
                                    "TotalFilas": "6009"
                                }
                            ]
                        },
                        "text/html": "<table><tr><th>TotalFilas</th></tr><tr><td>6009</td></tr></table>"
                    },
                    "metadata": {}
                }
            ],
            "execution_count": 2
        }
    ]
}