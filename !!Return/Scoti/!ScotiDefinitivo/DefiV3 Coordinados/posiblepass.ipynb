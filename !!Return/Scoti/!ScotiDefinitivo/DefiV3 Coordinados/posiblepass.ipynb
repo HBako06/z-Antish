{
 "cells": [
  {
   "cell_type": "code",
   "execution_count": 47,
   "metadata": {},
   "outputs": [],
   "source": [
    "def verificar_y_aumentar_longitud(valor):\n",
    "    valores = [0, 1, 2, 3, 4, 5, 6]\n",
    "    i = 0 \n",
    "    while len(valor) < 8:\n",
    "        valor = valor + str(valores[i])\n",
    "        i = i + 1\n",
    "    return valor"
   ]
  },
  {
   "cell_type": "code",
   "execution_count": 48,
   "metadata": {},
   "outputs": [],
   "source": [
    "def procesar_cadena(cadena):\n",
    "    palabras = cadena.split(\"|\")  # Usamos \"|\" como separador\n",
    "    \n",
    "    # Extraer los datos\n",
    "    numero = palabras[0]\n",
    "    nombres = palabras[1].split()  # Dividir nombres por espacios en blanco\n",
    "    primer_nombre = nombres[0].lower().capitalize().strip()\n",
    "    \n",
    "    apellido_paterno = palabras[2].lower().capitalize().strip()\n",
    "    apellido_paterno =apellido_paterno.split()\n",
    "    apellido_paterno = apellido_paterno[0]\n",
    "    \n",
    "    \n",
    "    \n",
    "     # Verificar si hay un segundo nombre, si no hay usaremos el apellido paterno\n",
    "    if len(nombres) > 1:\n",
    "        segundo_nombre = nombres[1].lower().capitalize().strip()\n",
    "    else:\n",
    "        \n",
    "        if len(apellido_paterno) > 1:\n",
    "            segundo_nombre = apellido_paterno\n",
    "        else:\n",
    "            segundo_nombre = 'Peru'\n",
    "\n",
    "    #separando las fechas de nacimiento\n",
    "    try:\n",
    "        fecha_nacimiento = palabras[4].split(\"/\")[2].strip()  # Extraer el año de nacimiento\n",
    "        fecha_nacimiento_dos_digitos = fecha_nacimiento[-2:]\n",
    "        dia_nacimiento = palabras[4].split(\"/\")[0].strip()\n",
    "    except:\n",
    "        fecha_nacimiento = '1990'\n",
    "        fecha_nacimiento_dos_digitos = '10'\n",
    "        dia_nacimiento = '10'\n",
    "\n",
    "    if len(primer_nombre) >= 6:\n",
    "        print('El nombre tiene mas de 6 caracteres')\n",
    "        #Por si tiene más de 6 caracteres el nombre\n",
    "        valor1 = primer_nombre + fecha_nacimiento\n",
    "        valor2 = primer_nombre + dia_nacimiento\n",
    "        valor3 = primer_nombre + fecha_nacimiento_dos_digitos\n",
    "        valor4 =  segundo_nombre + fecha_nacimiento\n",
    "\n",
    "    if len(primer_nombre) == 4 or len(primer_nombre) == 5:\n",
    "        print('El nombre tiene 4 o 5 caracteres')\n",
    "\n",
    "        #Por si tiene más de 6 caracteres el nombre\n",
    "        valor1 = primer_nombre + fecha_nacimiento\n",
    "        valor2 = primer_nombre + dia_nacimiento + fecha_nacimiento_dos_digitos\n",
    "        valor3 = primer_nombre + fecha_nacimiento_dos_digitos + dia_nacimiento\n",
    "        valor4 =  segundo_nombre + fecha_nacimiento\n",
    "        \n",
    "    if len(primer_nombre) <= 3:\n",
    "        print('El nombre tiene 3 caracteres')\n",
    "        #Por si tiene más de 6 caracteres el nombre\n",
    "        valor1 = primer_nombre+ segundo_nombre.lower() + fecha_nacimiento_dos_digitos\n",
    "        valor2 = primer_nombre + segundo_nombre[0].lower() + fecha_nacimiento\n",
    "        valor3 = primer_nombre +segundo_nombre[0].lower()  + dia_nacimiento + fecha_nacimiento_dos_digitos \n",
    "        valor4 =  segundo_nombre + fecha_nacimiento\n",
    "    \n",
    "    # Por si es de 2 digitos o 1 para corregir errores\n",
    "    valor1 = verificar_y_aumentar_longitud(valor1)\n",
    "    valor2 = verificar_y_aumentar_longitud(valor2)\n",
    "    valor3 = verificar_y_aumentar_longitud(valor3)\n",
    "    valor4 = verificar_y_aumentar_longitud(valor4)\n",
    "    \n",
    "    return [numero, valor1, valor2, valor3, valor4]\n"
   ]
  },
  {
   "cell_type": "code",
   "execution_count": 49,
   "metadata": {},
   "outputs": [
    {
     "name": "stdout",
     "output_type": "stream",
     "text": [
      "El nombre tiene mas de 6 caracteres\n",
      "['46786551', 'Luxdxdxd1991', 'Luxdxdxd08', 'Luxdxdxd91', 'Tantavilca1991']\n"
     ]
    }
   ],
   "source": [
    "\n",
    "#Ejemplo de uso:\n",
    "cadena_entrada = '46786551|LUxdxdxd |TANTAVILCA|FERNANDEZ|08/01/1991'\n",
    "#cadena_entrada = '46786550|ANDREA DEL PILAR|YACTAYO|MESTAS|16/03/1991' #correcto\n",
    "resultado = procesar_cadena(cadena_entrada)\n",
    "print(resultado)  # Esto imprimirá: ['07542837', 'Gledis1953', 'Gledis1234', 'Reategui1953', 'Montes1953']\n"
   ]
  }
 ],
 "metadata": {
  "kernelspec": {
   "display_name": "Python 3",
   "language": "python",
   "name": "python3"
  },
  "language_info": {
   "codemirror_mode": {
    "name": "ipython",
    "version": 3
   },
   "file_extension": ".py",
   "mimetype": "text/x-python",
   "name": "python",
   "nbconvert_exporter": "python",
   "pygments_lexer": "ipython3",
   "version": "3.10.0"
  }
 },
 "nbformat": 4,
 "nbformat_minor": 2
}
