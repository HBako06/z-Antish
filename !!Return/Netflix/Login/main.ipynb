{
 "cells": [
  {
   "cell_type": "code",
   "execution_count": 1,
   "metadata": {},
   "outputs": [],
   "source": [
    "from selenium import webdriver\n",
    "from selenium.webdriver.firefox.options import Options\n",
    "from selenium.webdriver.firefox.service import Service\n",
    "from selenium.webdriver.common.by import By\n",
    "from selenium.webdriver.support.ui import WebDriverWait\n",
    "from selenium.webdriver.support import expected_conditions as EC\n",
    "from selenium.common.exceptions import NoSuchElementException\n",
    "from selenium.webdriver.firefox.options import FirefoxProfile\n",
    "import time\n"
   ]
  },
  {
   "cell_type": "code",
   "execution_count": 25,
   "metadata": {},
   "outputs": [],
   "source": [
    "\n",
    "class Xpath:\n",
    "    correo = '//*[@id=\"id_userLoginId\"]'\n",
    "    contrasena = '//*[@id=\"id_password\"]'\n",
    "    btnIngresar = '//*[@id=\"static-login-cta\"]'\n",
    "    mensajeError= '/html/body/div[1]/div[1]/div[2]/div/div/div/div/div[1]'\n",
    "\n"
   ]
  },
  {
   "cell_type": "code",
   "execution_count": 35,
   "metadata": {},
   "outputs": [],
   "source": [
    "\n",
    "class BotNetflix:\n",
    "    def __init__(self, driver):\n",
    "        self.driver = driver\n",
    "            \n",
    "    def open(self):\n",
    "        self.driver.get(\"https://www.netflix.com/pe/login\")\n",
    "        #time.sleep(1)\n",
    "        self.driver.find_element(By.XPATH, Xpath.correo).send_keys(\"410@donacionregalo.com\")\n",
    "        self.driver.find_element(By.XPATH, Xpath.contrasena).send_keys(\"59164vlad\")\n",
    "        \n",
    "        time.sleep(0.3)\n",
    "        self.driver.find_element(By.XPATH, Xpath.btnIngresar).click()\n",
    "        \n",
    "    def verificar(self):\n",
    "        if self.driver.find_element(By.XPATH, Xpath.mensajeError).is_displayed():\n",
    "            modaltext = self.driver.find_element(By.XPATH, Xpath.mensajeError).text\n",
    "            print(modaltext)\n",
    "            return False\n"
   ]
  },
  {
   "cell_type": "code",
   "execution_count": 33,
   "metadata": {},
   "outputs": [
    {
     "name": "stderr",
     "output_type": "stream",
     "text": [
      "C:\\Users\\zh\\AppData\\Local\\Temp\\ipykernel_15052\\3926576220.py:4: DeprecationWarning: firefox_profile has been deprecated, please use an Options object\n",
      "  firefox_profile = FirefoxProfile()\n",
      "C:\\Users\\zh\\AppData\\Local\\Temp\\ipykernel_15052\\3926576220.py:9: DeprecationWarning: firefox_profile has been deprecated, please pass in an Options object\n",
      "  driver = webdriver.Firefox(options=firefox_options, firefox_profile=firefox_profile)\n"
     ]
    }
   ],
   "source": [
    "if __name__ == '__main__':\n",
    "    # Configurar opciones de Firefox\n",
    "    firefox_options = Options()\n",
    "    firefox_profile = FirefoxProfile()\n",
    "    firefox_profile.set_preference(\"general.useragent.override\", \"Mozilla/5.0 (Windows NT 10.0; Win64; x64) AppleWebKit/537.36 (KHTML, like Gecko) Chrome/97.0.4692.71 Safari/537.36\")\n",
    "\n",
    "    firefox_options.binary_location = r'C:\\Program Files\\Mozilla Firefox\\firefox.exe'\n",
    "\n",
    "    driver = webdriver.Firefox(options=firefox_options, firefox_profile=firefox_profile)"
   ]
  },
  {
   "cell_type": "code",
   "execution_count": null,
   "metadata": {},
   "outputs": [],
   "source": [
    "bot = BotNetflix(driver)\n",
    "bot.open()\n",
    "print(bot.verificar())"
   ]
  },
  {
   "cell_type": "code",
   "execution_count": 20,
   "metadata": {},
   "outputs": [],
   "source": [
    "bot = BotNetflix(driver)\n",
    "bot.clickbuton()"
   ]
  }
 ],
 "metadata": {
  "kernelspec": {
   "display_name": "Python 3",
   "language": "python",
   "name": "python3"
  },
  "language_info": {
   "codemirror_mode": {
    "name": "ipython",
    "version": 3
   },
   "file_extension": ".py",
   "mimetype": "text/x-python",
   "name": "python",
   "nbconvert_exporter": "python",
   "pygments_lexer": "ipython3",
   "version": "3.10.0"
  }
 },
 "nbformat": 4,
 "nbformat_minor": 2
}
